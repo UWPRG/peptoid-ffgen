{
 "cells": [
  {
   "cell_type": "code",
   "execution_count": 1,
   "metadata": {},
   "outputs": [],
   "source": [
    "from core import *"
   ]
  },
  {
   "cell_type": "code",
   "execution_count": 2,
   "metadata": {},
   "outputs": [],
   "source": [
    "## Requirements ## \n",
    "\n",
    "# 1) log file from gaussian scan \n",
    "# 2) skel.pdb (contains atoms and atom names in correct order - only needs to be created once) ** replace this w/ RTP entries somehow* much easier\n",
    "# 3) plumed.dat (should contain CVs of interest and the scan coordinate, with AT=XXX -> refer to example file) **CAN WE WRITE A SCRIPT TO DO THIS?**\n",
    "# 4) \n",
    "\n",
    "# Hash table contains name and residue corresponding to general atom in xyz file, where the row is signified by the key \n",
    "# if you build your .mol file in the right order (according to topol) this will make ur life much easier\n",
    "hash_table = {1: ['CL', 'STN'],\n",
    "              2: ['CLP', 'STN'],\n",
    "              3: ['NL', 'STN'],\n",
    "              4: ['CA', 'STN'],\n",
    "              5: ['CLP', 'STC'],\n",
    "              6: ['NR', 'STC'],\n",
    "              7: ['CR', 'STC'],\n",
    "              8: ['OL', 'STN'],\n",
    "              9: ['OL', 'STC'],\n",
    "              10: ['CB', 'STN'],\n",
    "              11: ['CD', 'STC'],\n",
    "              12: ['HA1', 'STN'],\n",
    "              13: ['HA2', 'STN'],\n",
    "              14: ['HL1', 'STN'],\n",
    "              15: ['HL2', 'STN'],\n",
    "              16: ['HL3', 'STN'],\n",
    "              17: ['HR1', 'STC'],\n",
    "              18: ['HR2', 'STC'],\n",
    "              19: ['HR3', 'STC'],\n",
    "              20: ['HB1', 'STN'],\n",
    "              21: ['HB2', 'STN'],\n",
    "              22: ['HB3', 'STN'],\n",
    "              23: ['HD1', 'STC'],\n",
    "              24: ['HD2', 'STC'],\n",
    "              25: ['HD3', 'STC']}"
   ]
  },
  {
   "cell_type": "code",
   "execution_count": 1,
   "metadata": {},
   "outputs": [],
   "source": [
    "# get residues from scan_atoms -> 2(CLP), 3(NL), 4(CA), 5(CLP)\n",
    "# find and replace XXX/YYY/ZZZ/HHH with scan_atom residues (how do you determine reference angle?)\n",
    "# for loop will iterate over different kappas\n",
    "# kappa = [1.2, 1.4, 1.6, 1.8]\n",
    "# kappa unit conversion \n",
    "\n",
    "# for i in kappa:\n",
    "#     find_and_replace(skel_file, kappa)\n",
    "#     md_energy()\n",
    "#     calc_error\n",
    "\n",
    "# plot all results\n"
   ]
  },
  {
   "cell_type": "code",
   "execution_count": 3,
   "metadata": {},
   "outputs": [],
   "source": [
    "# Parse through Gaussian output\n",
    "scan_coord, scan_energy = parse_logfile(logfile='c7beta_mp2_10deg.log', output_dir='xyz/', scan_atoms=[2,3,4,5], post_hartree_fock='MP2')"
   ]
  },
  {
   "cell_type": "code",
   "execution_count": 4,
   "metadata": {},
   "outputs": [],
   "source": [
    "# Generate Gromacs Input\n",
    "parse_xyz(xyz_dir='xyz/', hash_table=hash_table, skel_file='skel/skel.pdb', output_dir='pdb/')"
   ]
  },
  {
   "cell_type": "code",
   "execution_count": 5,
   "metadata": {},
   "outputs": [
    {
     "name": "stdout",
     "output_type": "stream",
     "text": [
      "finished scan 0\n",
      "finished scan 1\n",
      "finished scan 2\n",
      "finished scan 3\n",
      "finished scan 4\n",
      "finished scan 5\n",
      "finished scan 6\n",
      "finished scan 7\n",
      "finished scan 8\n",
      "finished scan 9\n",
      "finished scan 10\n",
      "finished scan 11\n",
      "finished scan 12\n",
      "finished scan 13\n",
      "finished scan 14\n",
      "finished scan 15\n",
      "finished scan 16\n",
      "finished scan 17\n",
      "finished scan 18\n",
      "finished scan 19\n",
      "finished scan 20\n",
      "finished scan 21\n",
      "finished scan 22\n",
      "finished scan 23\n",
      "finished scan 24\n",
      "finished scan 25\n",
      "finished scan 26\n",
      "finished scan 27\n",
      "finished scan 28\n",
      "finished scan 29\n",
      "finished scan 30\n",
      "finished scan 31\n",
      "finished scan 32\n",
      "finished scan 33\n",
      "finished scan 34\n",
      "finished scan 35\n",
      "finished scan 36\n",
      "finished scan 37\n"
     ]
    }
   ],
   "source": [
    "# Calculate MM Energy\n",
    "md_energy = run_md(scan_coord, scan_atoms=[15,12,7,5], mpirun=False, plumed=False)"
   ]
  },
  {
   "cell_type": "code",
   "execution_count": 6,
   "metadata": {},
   "outputs": [],
   "source": [
    "# Read Energy into Date Frame \n",
    "scan_df = scan_to_dataframe(scan_coord, scan_energy, min_to_zero=True)\n",
    "md_df = mdscan_to_dataframe(scan_coord, md_energy, min_to_zero=True)\n",
    "\n",
    "scan_df = scan_df.sort_values(by=['coord_rev'])\n",
    "md_df = md_df.sort_values(by=['coord_rev'])"
   ]
  },
  {
   "cell_type": "code",
   "execution_count": 7,
   "metadata": {},
   "outputs": [
    {
     "data": {
      "text/plain": [
       "0.7131691180771955"
      ]
     },
     "execution_count": 7,
     "metadata": {},
     "output_type": "execute_result"
    }
   ],
   "source": [
    "# Calculate Error Metric \n",
    "calc_error(d1=scan_df['kcal'], d2=md_df['kcal'], rss_method='KLDIV')"
   ]
  },
  {
   "cell_type": "code",
   "execution_count": 8,
   "metadata": {},
   "outputs": [
    {
     "data": {
      "image/png": "[encoded data removed]",
      "text/plain": [
       "<Figure size 432x288 with 1 Axes>"
      ]
     },
     "metadata": {
      "needs_background": "light"
     },
     "output_type": "display_data"
    }
   ],
   "source": [
    "import matplotlib.pyplot as plt\n",
    "import numpy as np\n",
    "\n",
    "scan_df = scan_to_dataframe(scan_coord, scan_energy, min_to_zero=True)\n",
    "md_df = mdscan_to_dataframe(scan_coord, md_energy, min_to_zero=True)\n",
    "\n",
    "scan_df = scan_df.sort_values(by=['coord_rev'])\n",
    "md_df = md_df.sort_values(by=['coord_rev'])\n",
    "\n",
    "plt.plot(scan_df['coord_rev'], scan_df['kcal'],'-o')\n",
    "plt.plot(md_df['coord_rev'], md_df['kcal'],'-o')\n",
    "plt.show()"
   ]
  },
  {
   "cell_type": "code",
   "execution_count": null,
   "metadata": {},
   "outputs": [],
   "source": []
  },
  {
   "cell_type": "code",
   "execution_count": null,
   "metadata": {},
   "outputs": [],
   "source": []
  }
 ],
 "metadata": {
  "kernelspec": {
   "display_name": "Python 3",
   "language": "python",
   "name": "python3"
  },
  "language_info": {
   "codemirror_mode": {
    "name": "ipython",
    "version": 3
   },
   "file_extension": ".py",
   "mimetype": "text/x-python",
   "name": "python",
   "nbconvert_exporter": "python",
   "pygments_lexer": "ipython3",
   "version": "3.8.5"
  }
 },
 "nbformat": 4,
 "nbformat_minor": 4
}
